{
 "cells": [
  {
   "cell_type": "markdown",
   "id": "b829029f-7271-420c-849d-5178fd5926d7",
   "metadata": {},
   "source": [
    "# Answer no.1\n",
    "In Python, an exception is an event that occurs during the execution of a program that disrupts the normal flow of instructions. When a Python script encounters an error, it raises an exception. Exceptions can be raised by the Python interpreter or explicitly by the programmer.\n",
    "\n",
    "Exceptions and syntax errors are both types of errors that can occur in Python, but they differ in their nature and when they occur:\n",
    "\n",
    "## Exceptions:\n",
    "\n",
    "Exceptions occur during the execution of a program.\n",
    "They are runtime errors that disrupt the normal flow of instructions.\n",
    "Exceptions can be raised explicitly by the programmer using the raise statement or implicitly by the Python interpreter when an error condition occurs.\n",
    "\n",
    "## Syntax Errors:\n",
    "\n",
    "Syntax errors occur during the parsing of code, before the program is executed.\n",
    "They are caused by invalid Python syntax, such as misspelled keywords, missing parentheses, incorrect indentation, etc.\n",
    "Syntax errors prevent the interpreter from understanding the code and compiling it into bytecode."
   ]
  },
  {
   "cell_type": "markdown",
   "id": "c43df844-8217-4d40-ae79-8fcf04cc5f14",
   "metadata": {},
   "source": [
    "## Answer No.2\n",
    "When an exception is not handled in Python, it propagates up the call stack until it's caught or until it reaches the top level of the program. If an exception reaches the top level without being caught, the program terminates and displays an error message, along with a traceback that shows where the unhandled exception occurred."
   ]
  },
  {
   "cell_type": "code",
   "execution_count": null,
   "id": "c97d9079-2c88-47a5-a62a-d5010cdb6cd4",
   "metadata": {},
   "outputs": [],
   "source": [
    "## EXAMPLE \n",
    "def divide_by_zero():\n",
    "    result = 10 / 0  # This will raise a ZeroDivisionError\n",
    "\n",
    "def main():\n",
    "    divide_by_zero()\n",
    "\n",
    "if __name__ == \"__main__\":\n",
    "    main()"
   ]
  },
  {
   "cell_type": "markdown",
   "id": "80856c2a-dbfb-48ca-8629-7630fadb0bbe",
   "metadata": {},
   "source": [
    "## Answer No.3\n",
    "In Python, the 'try' and 'except' statements are used to catch and handle exceptions. The try block contains the code where an exception might occur, and the except block specifies the code to be executed if a particular exception is raised within the try block."
   ]
  },
  {
   "cell_type": "code",
   "execution_count": null,
   "id": "691db2af-973b-40e6-99e1-f794406727ac",
   "metadata": {},
   "outputs": [],
   "source": [
    "## Example\n",
    "def divide_numbers(a, b):\n",
    "    try:\n",
    "        result = a / b  # This may raise a ZeroDivisionError\n",
    "        print(\"Result:\", result)\n",
    "    except ZeroDivisionError:\n",
    "        print(\"Error: Division by zero!\")\n",
    "    except TypeError:\n",
    "        print(\"Error: Invalid operand types!\")\n",
    "    except Exception as e:\n",
    "        print(\"Error:\", e)\n",
    "\n",
    "# Example usage\n",
    "divide_numbers(10, 0)  # This will raise a ZeroDivisionError\n",
    "divide_numbers(10, 'a')  # This will raise a TypeError"
   ]
  },
  {
   "cell_type": "code",
   "execution_count": null,
   "id": "b4be6631-d9d7-4e41-9b18-7183ea984b80",
   "metadata": {},
   "outputs": [],
   "source": [
    "## Answer No.4\n",
    "# Try and else\n",
    "\n",
    "def divide_numbers(a, b):\n",
    "    try:\n",
    "        result = a / b  # This may raise a ZeroDivisionError\n",
    "    except ZeroDivisionError:\n",
    "        print(\"Error: Division by zero!\")\n",
    "    else:\n",
    "        print(\"Division successful. Result:\", result)\n",
    "\n",
    "# Example usage\n",
    "divide_numbers(10, 2)  # No exception is raised, so else block is executed\n",
    "divide_numbers(10, 0)  # This will raise a ZeroDivisionError, so except block is executed\n"
   ]
  },
  {
   "cell_type": "code",
   "execution_count": null,
   "id": "63d8b83f-87bd-451c-8f8b-c650befb0ec3",
   "metadata": {},
   "outputs": [],
   "source": [
    "# Finally \n",
    "\n",
    "def divide_numbers(a, b):\n",
    "    try:\n",
    "        result = a / b  # This may raise a ZeroDivisionError\n",
    "        print(\"Division successful. Result:\", result)\n",
    "    except ZeroDivisionError:\n",
    "        print(\"Error: Division by zero!\")\n",
    "    finally:\n",
    "        print(\"Finally block executed.\")\n",
    "\n",
    "# Example usage\n",
    "divide_numbers(10, 2)  # No exception is raised, so finally block is executed\n",
    "divide_numbers(10, 0)  # This will raise a ZeroDivisionError, so finally block is still executed\n"
   ]
  },
  {
   "cell_type": "code",
   "execution_count": null,
   "id": "20e84a80-6b0b-43f4-8526-44845f5f0b2e",
   "metadata": {},
   "outputs": [],
   "source": [
    "## Raise\n",
    "\n",
    "def divide_numbers(a, b):\n",
    "    if b == 0:\n",
    "        raise ZeroDivisionError(\"Cannot divide by zero!\")\n",
    "    else:\n",
    "        return a / b\n",
    "\n",
    "# Example usage\n",
    "try:\n",
    "    result = divide_numbers(10, 0)  # This will raise a ZeroDivisionError\n",
    "except ZeroDivisionError as e:\n",
    "    print(\"Error:\", e)\n"
   ]
  },
  {
   "cell_type": "markdown",
   "id": "247c0a73-abe9-4410-b918-6430816449d8",
   "metadata": {},
   "source": [
    "## Answer No.5\n",
    "\n",
    "Custom exceptions in Python are user-defined exception classes that inherit from the built-in Exception class or any of its subclasses. They allow programmers to define their own types of exceptions to handle specific error conditions or exceptional cases in their code.\n",
    "\n",
    "## Custom exceptions are useful for several reasons:\n",
    "\n",
    "Clarity and readability: By defining custom exceptions, you can provide descriptive names for specific error conditions in your code, making it easier for other developers (and yourself) to understand and maintain the code.\n",
    "\n",
    "Modularity and organization: Custom exceptions help in organizing and modularizing your code by encapsulating error handling logic related to specific error conditions within dedicated exception classes.\n",
    "\n",
    "Granular error handling: Custom exceptions allow you to handle different error conditions differently, providing more granular control over error handling in your code.\n",
    "\n",
    "Extensibility: Custom exceptions can be extended or subclassed to create hierarchies of related exception types, allowing for more flexible error handling strategies.\n",
    "\n"
   ]
  },
  {
   "cell_type": "code",
   "execution_count": null,
   "id": "85660b04-c9c6-4fea-a9a8-02fe66290007",
   "metadata": {},
   "outputs": [],
   "source": [
    "## Example\n",
    "\n",
    "class WithdrawalError(Exception):\n",
    "    pass\n",
    "\n",
    "class InsufficientFundsError(WithdrawalError):\n",
    "    pass\n",
    "\n",
    "class NegativeAmountError(WithdrawalError):\n",
    "    pass\n",
    "\n",
    "class BankAccount:\n",
    "    def __init__(self, balance):\n",
    "        self.balance = balance\n",
    "    \n",
    "    def withdraw(self, amount):\n",
    "        if amount < 0:\n",
    "            raise NegativeAmountError(\"Withdrawal amount cannot be negative.\")\n",
    "        if amount > self.balance:\n",
    "            raise InsufficientFundsError(\"Insufficient funds for withdrawal.\")\n",
    "        self.balance -= amount\n",
    "        return self.balance\n",
    "\n",
    "# Example usage\n",
    "account = BankAccount(1000)\n",
    "\n",
    "try:\n",
    "    account.withdraw(-100)  # This will raise a NegativeAmountError\n",
    "except NegativeAmountError as e:\n",
    "    print(\"Error:\", e)\n",
    "\n",
    "try:\n",
    "    account.withdraw(1500)  # This will raise an InsufficientFundsError\n",
    "except InsufficientFundsError as e:\n",
    "    print(\"Error:\", e)\n"
   ]
  },
  {
   "cell_type": "code",
   "execution_count": null,
   "id": "a15b0e1f-517a-47e6-87ac-fe2a9bdb65c2",
   "metadata": {},
   "outputs": [],
   "source": [
    "## Answer No.6\n",
    "\n",
    "class CustomError(Exception):\n",
    "    \"\"\"Custom exception class.\"\"\"\n",
    "    def __init__(self, message=\"A custom error occurred.\"):\n",
    "        self.message = message\n",
    "        super().__init__(self.message)\n",
    "\n",
    "def example_function(x):\n",
    "    \"\"\"Example function raising a custom exception.\"\"\"\n",
    "    if x < 0:\n",
    "        raise CustomError(\"Input should be a non-negative number.\")\n",
    "\n",
    "# Example usage\n",
    "try:\n",
    "    number = -5\n",
    "    example_function(number)\n",
    "except CustomError as e:\n",
    "    print(\"Custom error:\", e)\n"
   ]
  }
 ],
 "metadata": {
  "kernelspec": {
   "display_name": "Python 3 (ipykernel)",
   "language": "python",
   "name": "python3"
  },
  "language_info": {
   "codemirror_mode": {
    "name": "ipython",
    "version": 3
   },
   "file_extension": ".py",
   "mimetype": "text/x-python",
   "name": "python",
   "nbconvert_exporter": "python",
   "pygments_lexer": "ipython3",
   "version": "3.10.8"
  }
 },
 "nbformat": 4,
 "nbformat_minor": 5
}
